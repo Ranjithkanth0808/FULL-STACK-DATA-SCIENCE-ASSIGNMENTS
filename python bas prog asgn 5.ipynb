{
 "cells": [
  {
   "cell_type": "code",
   "execution_count": null,
   "id": "a0691bae",
   "metadata": {},
   "outputs": [],
   "source": []
  },
  {
   "cell_type": "code",
   "execution_count": 1,
   "id": "3210e61b",
   "metadata": {},
   "outputs": [
    {
     "name": "stdout",
     "output_type": "stream",
     "text": [
      "lcm is 12\n"
     ]
    }
   ],
   "source": [
    "##1. Write a Python Program to Find LCM?\n",
    "def lcm(x,y):\n",
    "    if x > y:\n",
    "        greater = x \n",
    "    else:\n",
    "        greater = y\n",
    "    while(True):\n",
    "        if((greater % x == 0) and (greater % y == 0)):\n",
    "            lcm = greater\n",
    "            break\n",
    "        greater += 1\n",
    "    return lcm\n",
    "\n",
    "\n",
    "\n",
    "\n",
    "num1 = 4\n",
    "num2 = 6\n",
    "print(\"lcm is\",lcm(num1,num2))\n",
    "        "
   ]
  },
  {
   "cell_type": "code",
   "execution_count": 2,
   "id": "be39c363",
   "metadata": {},
   "outputs": [
    {
     "name": "stdout",
     "output_type": "stream",
     "text": [
      "enter the first number:54\n",
      "enter the second number:24\n",
      "the HCM is 6\n"
     ]
    }
   ],
   "source": [
    "##2. Write a Python Program to Find HCF?\n",
    "\n",
    "def cal_hcf(x,y):\n",
    "    if x < y:\n",
    "        smaller = x\n",
    "    else:\n",
    "        smaller = y\n",
    "    for i in range(1,smaller+1):\n",
    "        if((x % i ==0) and (y % i ==0)):\n",
    "            hcf = i\n",
    "    return hcf\n",
    "            \n",
    "            \n",
    "            \n",
    "x = int(input(\"enter the first number:\"))\n",
    "y = int(input(\"enter the second number:\"))\n",
    "print(\"the HCM is\",cal_hcf(x,y))"
   ]
  },
  {
   "cell_type": "code",
   "execution_count": 1,
   "id": "f25c78ed",
   "metadata": {},
   "outputs": [
    {
     "name": "stdout",
     "output_type": "stream",
     "text": [
      "enter the decimal number : 26\n",
      "the given decimal number 26 in binary number is:  0b11010\n",
      "the given decimal number 26 in octal number is:  0o32\n",
      "the given decimal number 26 in hexadecimal number is:  0x1a\n"
     ]
    }
   ],
   "source": [
    "## 3. Write a Python Program to Convert Decimal to Binary, Octal and Hexadecimal?\n",
    "def dec_2_binary(decno):\n",
    "    decimal = int(decno)\n",
    "    print(\"the given decimal number\", decno ,\"in binary number is: \", bin(decimal))\n",
    "def dec_2_octal(decno):\n",
    "    decimal = int(decno)\n",
    "    print(\"the given decimal number\", decno , \"in octal number is: \", oct(decimal))\n",
    "def dec_2_hexa(decno):\n",
    "    decimal = int(decno)\n",
    "    print(\"the given decimal number\", decno , \"in hexadecimal number is: \",hex(decimal))\n",
    "\n",
    "    \n",
    "    \n",
    "decno = int(input(\"enter the decimal number : \"))\n",
    "dec_2_binary(decno)\n",
    "dec_2_octal(decno)\n",
    "dec_2_hexa(decno)\n"
   ]
  },
  {
   "cell_type": "code",
   "execution_count": 13,
   "id": "eceb1a35",
   "metadata": {},
   "outputs": [
    {
     "name": "stdout",
     "output_type": "stream",
     "text": [
      "ASCII VALUE OF THE CHARACTER  a is 97\n"
     ]
    }
   ],
   "source": [
    "## 4 .Write a Python Program To Find ASCII value of a character?\n",
    "\n",
    "def ASCII_value(CHARACTER):\n",
    "    a = CHARACTER\n",
    "    print(\"ASCII VALUE OF THE CHARACTER \" , a ,\"is\", ord(a))\n",
    "    \n",
    "\n",
    "\n",
    "\n",
    "ASCII_value(\"a\")\n",
    "    "
   ]
  },
  {
   "cell_type": "code",
   "execution_count": 17,
   "id": "90a8793d",
   "metadata": {},
   "outputs": [
    {
     "name": "stdout",
     "output_type": "stream",
     "text": [
      "Select the operation\n",
      "1.add\n",
      "2.subtract\n",
      "3.multiply\n",
      "4.Divide\n",
      "5.Power\n",
      "Enter choice(1/2/3/4/5) : 5\n",
      "Enter the no1 : 5\n",
      "Enter the no2 : 2\n",
      "5 ^ 2 = 25\n"
     ]
    }
   ],
   "source": [
    "## 5.Write a Python Program to Make a Simple Calculator with 4 basic mathematical operations?\n",
    "\n",
    "def add(x,y):\n",
    "    return x + y\n",
    "def sub(x,y):\n",
    "    return x - y\n",
    "def multiply(x,y):\n",
    "    return x * y\n",
    "def divide(x,y):\n",
    "    return x / y\n",
    "def power(x,y):\n",
    "    return pow(x,y)\n",
    "\n",
    "\n",
    "\n",
    "## take input from the user\n",
    "print(\"Select the operation\")\n",
    "print(\"1.add\")\n",
    "print(\"2.subtract\")\n",
    "print(\"3.multiply\")\n",
    "print(\"4.Divide\")\n",
    "print(\"5.Power\")\n",
    "choice = input(\"Enter choice(1/2/3/4/5) : \")\n",
    "\n",
    "\n",
    "NUM1 = int(input(\"Enter the no1 : \"))\n",
    "NUM2 = int(input(\"Enter the no2 : \"))\n",
    "\n",
    "if choice == \"1\":\n",
    "    print(NUM1 ,\"+\" , NUM2 , \"=\" , add(NUM1,NUM2))\n",
    "elif choice == \"2\":\n",
    "    print(NUM1 , \"-\" , NUM2 , \"=\" , sub(NUM1,NUM2))\n",
    "elif choice == \"3\":\n",
    "    print(NUM1 , \"*\" , NUM2 , \"=\" , multiply(NUM1,NUM2))\n",
    "elif choice == \"4\":\n",
    "    print(NUM1 , \"/\" , NUM2 , \"=\" , divide(NUM1,NUM2))\n",
    "elif choice == \"5\":\n",
    "    print(NUM1 , \"^\" , NUM2 , \"=\" , power(NUM1,NUM2))\n",
    "else:\n",
    "    print(\"this choice is not available\")"
   ]
  },
  {
   "cell_type": "code",
   "execution_count": null,
   "id": "7b148c06",
   "metadata": {},
   "outputs": [],
   "source": []
  }
 ],
 "metadata": {
  "kernelspec": {
   "display_name": "Python 3",
   "language": "python",
   "name": "python3"
  },
  "language_info": {
   "codemirror_mode": {
    "name": "ipython",
    "version": 3
   },
   "file_extension": ".py",
   "mimetype": "text/x-python",
   "name": "python",
   "nbconvert_exporter": "python",
   "pygments_lexer": "ipython3",
   "version": "3.8.8"
  }
 },
 "nbformat": 4,
 "nbformat_minor": 5
}

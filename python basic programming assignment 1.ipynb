{
 "cells": [
  {
   "cell_type": "code",
   "execution_count": 1,
   "id": "52ad1d16",
   "metadata": {},
   "outputs": [
    {
     "name": "stdout",
     "output_type": "stream",
     "text": [
      "Hello Python\n"
     ]
    }
   ],
   "source": [
    "# 1. Write a Python program to print \"Hello Python\"? \n",
    "print(\"Hello Python\")\n",
    " "
   ]
  },
  {
   "cell_type": "code",
   "execution_count": 2,
   "id": "51003512",
   "metadata": {},
   "outputs": [
    {
     "name": "stdout",
     "output_type": "stream",
     "text": [
      "enter the number1 : 10\n",
      "enter the number2 : 20\n",
      "the addition of 10.0 and 20.0 = 30.0\n",
      "the division of 10.0 and 20.0 = 0.5\n"
     ]
    }
   ],
   "source": [
    "# 2.Write a Python program to do arithmetical operations addition and division.?\n",
    "num1 = float(input(\"enter the number1 : \" ))\n",
    "num2 = float(input(\"enter the number2 : \"))\n",
    "sum = num1 + num2\n",
    "div = num1 / num2\n",
    "# for displaying sum of two numbers\n",
    "print (\"the addition of {0} and {1} = {2}\" .format(num1,num2,sum))\n",
    "# for displaying div of two numbers\n",
    "print (\"the division of {0} and {1} = {2}\" .format(num1,num2,div))"
   ]
  },
  {
   "cell_type": "code",
   "execution_count": 3,
   "id": "efcf4462",
   "metadata": {},
   "outputs": [
    {
     "name": "stdout",
     "output_type": "stream",
     "text": [
      "enter the number : 10\n",
      "enter the number : 20\n",
      "area of a triangle with base 10.0 and height 20.0 is 100.0  \n"
     ]
    }
   ],
   "source": [
    "#3.Write a Python program to find the area of a triangle?\n",
    "base = float(input(\"enter the number : \"))\n",
    "height = float(input(\"enter the number : \"))\n",
    "area  = (base * height)/2\n",
    "print (\"area of a triangle with base {0} and height {1} is {2}  \".format(base,height,area))"
   ]
  },
  {
   "cell_type": "code",
   "execution_count": 4,
   "id": "bf228c5f",
   "metadata": {},
   "outputs": [
    {
     "name": "stdout",
     "output_type": "stream",
     "text": [
      "the value of a after swapping : 20\n",
      "the value of b after swapping : 10\n"
     ]
    }
   ],
   "source": [
    "#4.Write a Python program to swap two variables?\n",
    "a = 10\n",
    "b = 20\n",
    "# by using temporary variable\n",
    "temp = a\n",
    "a = b\n",
    "b = temp\n",
    "print (\"the value of a after swapping : {}\".format(a))\n",
    "print (\"the value of b after swapping : {}\".format(b))"
   ]
  },
  {
   "cell_type": "code",
   "execution_count": 13,
   "id": "1594a1f4",
   "metadata": {},
   "outputs": [
    {
     "name": "stdout",
     "output_type": "stream",
     "text": [
      "Generated random number as :  93008\n"
     ]
    }
   ],
   "source": [
    "# 5.Write a Python program to generate a random number?\n",
    "import random as ran \n",
    "print(\"Generated random number as : \",ran.randint(0,100000))\n"
   ]
  },
  {
   "cell_type": "code",
   "execution_count": null,
   "id": "f8e7c7f2",
   "metadata": {},
   "outputs": [],
   "source": []
  }
 ],
 "metadata": {
  "kernelspec": {
   "display_name": "Python 3",
   "language": "python",
   "name": "python3"
  },
  "language_info": {
   "codemirror_mode": {
    "name": "ipython",
    "version": 3
   },
   "file_extension": ".py",
   "mimetype": "text/x-python",
   "name": "python",
   "nbconvert_exporter": "python",
   "pygments_lexer": "ipython3",
   "version": "3.8.8"
  }
 },
 "nbformat": 4,
 "nbformat_minor": 5
}

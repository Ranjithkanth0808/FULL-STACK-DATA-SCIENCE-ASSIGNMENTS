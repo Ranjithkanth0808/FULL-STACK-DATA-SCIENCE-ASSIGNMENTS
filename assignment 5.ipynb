{
 "cells": [
  {
   "cell_type": "markdown",
   "id": "bee67a8a",
   "metadata": {},
   "source": [
    "##1. What does an empty dictionary's code look like?\n",
    "We can create an empty  dictionary using curly braces or a dictionary constructor. To create an empty dictionary using curly braces, we simply declare a variable and assign a pair of curly braces as shown below. In the output the curly braces show that an empty dictionary has been created."
   ]
  },
  {
   "cell_type": "code",
   "execution_count": 10,
   "id": "1e9dd952",
   "metadata": {},
   "outputs": [],
   "source": [
    "spam = {}"
   ]
  },
  {
   "cell_type": "code",
   "execution_count": 11,
   "id": "9524562e",
   "metadata": {},
   "outputs": [
    {
     "data": {
      "text/plain": [
       "dict"
      ]
     },
     "execution_count": 11,
     "metadata": {},
     "output_type": "execute_result"
    }
   ],
   "source": [
    "type(spam)"
   ]
  },
  {
   "cell_type": "code",
   "execution_count": 18,
   "id": "8ef93034",
   "metadata": {},
   "outputs": [],
   "source": [
    "##2. What is the value of a dictionary value with the key 'foo' and the value 42?\n",
    "spam = {'foo':'42'}"
   ]
  },
  {
   "cell_type": "markdown",
   "id": "52faefe1",
   "metadata": {},
   "source": [
    "##3. What is the most significant distinction between a dictionary and a list?\n",
    "lists are an array of values and can be ordered and accessed. dictionaries are a key value store. Accessing a list is fast."
   ]
  },
  {
   "cell_type": "code",
   "execution_count": 16,
   "id": "2593e8be",
   "metadata": {},
   "outputs": [
    {
     "ename": "KeyError",
     "evalue": "'foo'",
     "output_type": "error",
     "traceback": [
      "\u001b[1;31m---------------------------------------------------------------------------\u001b[0m",
      "\u001b[1;31mKeyError\u001b[0m                                  Traceback (most recent call last)",
      "\u001b[1;32m<ipython-input-16-a2f95e08830e>\u001b[0m in \u001b[0;36m<module>\u001b[1;34m\u001b[0m\n\u001b[0;32m      1\u001b[0m \u001b[1;31m##4. What happens if you try to access spam['foo'] if spam is {'bar': 100}?\u001b[0m\u001b[1;33m\u001b[0m\u001b[1;33m\u001b[0m\u001b[1;33m\u001b[0m\u001b[0m\n\u001b[0;32m      2\u001b[0m \u001b[0mspam\u001b[0m \u001b[1;33m=\u001b[0m \u001b[1;33m{\u001b[0m\u001b[1;34m'bar'\u001b[0m\u001b[1;33m:\u001b[0m \u001b[1;36m100\u001b[0m\u001b[1;33m}\u001b[0m\u001b[1;33m\u001b[0m\u001b[1;33m\u001b[0m\u001b[0m\n\u001b[1;32m----> 3\u001b[1;33m \u001b[0mspam\u001b[0m\u001b[1;33m[\u001b[0m\u001b[1;34m'foo'\u001b[0m\u001b[1;33m]\u001b[0m\u001b[1;33m\u001b[0m\u001b[1;33m\u001b[0m\u001b[0m\n\u001b[0m",
      "\u001b[1;31mKeyError\u001b[0m: 'foo'"
     ]
    }
   ],
   "source": [
    "##4. What happens if you try to access spam['foo'] if spam is {'bar': 100}?\n",
    "spam = {'bar': 100}\n",
    "spam['foo']\n",
    "##the key ‘foo’ is not defined, so the program fails."
   ]
  },
  {
   "cell_type": "markdown",
   "id": "77f41486",
   "metadata": {},
   "source": [
    "##5. If a dictionary is stored in spam, what is the difference between the expressions 'cat' in spam and 'cat' in spam.keys()?\n",
    "There is no difference. The in operator checks whether a value exists as a key in the dictionary. 'cat' in spam checks whether there is a 'cat' key in the dictionary, while 'cat' in spam. keys() checks whether there is a key 'cat' in the dictionary stored in a variable spam ."
   ]
  },
  {
   "cell_type": "markdown",
   "id": "88639b01",
   "metadata": {},
   "source": [
    "##6. If a dictionary is stored in spam, what is the difference between the expressions 'cat' in spam and 'cat' in spam.values()?\n",
    "There is no difference. The in operator checks whether a value exists as a key in the dictionary. 'cat' in spam checks whether there is a 'cat' key in the dictionary, while 'cat' in spam. values() checks whether there is a value 'cat' for one of the keys in spam."
   ]
  },
  {
   "cell_type": "code",
   "execution_count": 23,
   "id": "894e5cc2",
   "metadata": {},
   "outputs": [
    {
     "data": {
      "text/plain": [
       "{'foo': '42', 'color': 'black'}"
      ]
     },
     "execution_count": 23,
     "metadata": {},
     "output_type": "execute_result"
    }
   ],
   "source": [
    "##7. What is a shortcut for the following code?\n",
    "##if 'color' not in spam:\n",
    "##spam['color'] = 'black'\n",
    "spam.setdefault('color','black')\n",
    "spam"
   ]
  },
  {
   "cell_type": "markdown",
   "id": "08aa257e",
   "metadata": {},
   "source": [
    "##8. How do you \"pretty print\" dictionary values using which module and function?\n",
    "Use pprint() to Pretty Print a Dictionary in Python\n",
    "This module also supports pretty-printing dictionary. Within the pprint module there is a function with the same name pprint() , which is the function used to pretty-print the given string or object. "
   ]
  },
  {
   "cell_type": "code",
   "execution_count": null,
   "id": "a5ff73d0",
   "metadata": {},
   "outputs": [],
   "source": []
  }
 ],
 "metadata": {
  "kernelspec": {
   "display_name": "Python 3",
   "language": "python",
   "name": "python3"
  },
  "language_info": {
   "codemirror_mode": {
    "name": "ipython",
    "version": 3
   },
   "file_extension": ".py",
   "mimetype": "text/x-python",
   "name": "python",
   "nbconvert_exporter": "python",
   "pygments_lexer": "ipython3",
   "version": "3.8.8"
  }
 },
 "nbformat": 4,
 "nbformat_minor": 5
}

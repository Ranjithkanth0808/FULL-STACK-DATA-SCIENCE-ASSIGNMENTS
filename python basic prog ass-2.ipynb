{
 "cells": [
  {
   "cell_type": "code",
   "execution_count": 2,
   "id": "1e241f68",
   "metadata": {},
   "outputs": [
    {
     "name": "stdout",
     "output_type": "stream",
     "text": [
      "Enter the value in kilometer : 10\n",
      "10.0 kilometers is equal to 6.21371 miles \n"
     ]
    }
   ],
   "source": [
    "# 1.Write a Python program to convert kilometers to miles?\n",
    "kilometers = float(input(\"Enter the value in kilometer : \"))\n",
    "conv = 0.621371\n",
    "miles = kilometers * conv\n",
    "print ('{0} kilometers is equal to {1} miles '.format(kilometers,miles))"
   ]
  },
  {
   "cell_type": "code",
   "execution_count": 3,
   "id": "1b6e54b4",
   "metadata": {},
   "outputs": [
    {
     "name": "stdout",
     "output_type": "stream",
     "text": [
      "Enter the value in celsius : 23.0\n",
      "23.0 degree celsius is equal to 73.4 degree fahrenheit\n"
     ]
    }
   ],
   "source": [
    "# 2.Write a Python program to convert Celsius to Fahrenheit?\n",
    "celsius = float(input(\"Enter the value in celsius : \"))\n",
    "fahrenheit = (celsius * 1.8) + 32\n",
    "print(\"{0} degree celsius is equal to {1} degree fahrenheit\".format(celsius,fahrenheit))\n"
   ]
  },
  {
   "cell_type": "code",
   "execution_count": 4,
   "id": "a50e50e3",
   "metadata": {},
   "outputs": [
    {
     "name": "stdout",
     "output_type": "stream",
     "text": [
      "enter the year : 2022\n",
      "enter the month : 02\n",
      "   February 2022\n",
      "Mo Tu We Th Fr Sa Su\n",
      "    1  2  3  4  5  6\n",
      " 7  8  9 10 11 12 13\n",
      "14 15 16 17 18 19 20\n",
      "21 22 23 24 25 26 27\n",
      "28\n",
      "\n"
     ]
    }
   ],
   "source": [
    "# 3.Write a Python program to display calendar?\n",
    "import calendar\n",
    "year = int(input(\"enter the year : \"))\n",
    "month = int(input(\"enter the month : \"))\n",
    "print(calendar.month(year,month))"
   ]
  },
  {
   "cell_type": "code",
   "execution_count": 6,
   "id": "b5711c23",
   "metadata": {},
   "outputs": [
    {
     "name": "stdout",
     "output_type": "stream",
     "text": [
      "enter the value : 2\n",
      "enter the value : 1\n",
      "enter the value : -528\n",
      "the solutions are (16+0j) and (-16.5+0j)\n"
     ]
    }
   ],
   "source": [
    "# 4.Write a Python program to solve quadratic equation?\n",
    "import cmath as cm\n",
    "a = int(input(\"enter the value : \"))\n",
    "b = int(input(\"enter the value : \"))\n",
    "c = int(input(\"enter the value : \"))\n",
    "square = b*b - 4*a*c\n",
    "sol1 = (-b + cm.sqrt(square))/(2*a)\n",
    "sol2 = (-b - cm.sqrt(square))/(2*a)\n",
    "print(\"the solutions are {0} and {1}\".format(sol1,sol2))"
   ]
  },
  {
   "cell_type": "code",
   "execution_count": 7,
   "id": "99da7755",
   "metadata": {},
   "outputs": [
    {
     "name": "stdout",
     "output_type": "stream",
     "text": [
      "the value of a after swapping is 233\n",
      "the value of b after swapping is 100\n"
     ]
    }
   ],
   "source": [
    "# 5.Write a Python program to swap two variables without temp variable?\n",
    "a = 100\n",
    "b = 233\n",
    "a = a+b \n",
    "b = a-b\n",
    "a = a-b\n",
    "print(\"the value of a after swapping is {0}\".format(a))\n",
    "print(\"the value of b after swapping is {0}\".format(b))"
   ]
  },
  {
   "cell_type": "code",
   "execution_count": null,
   "id": "cde9e184",
   "metadata": {},
   "outputs": [],
   "source": []
  }
 ],
 "metadata": {
  "kernelspec": {
   "display_name": "Python 3",
   "language": "python",
   "name": "python3"
  },
  "language_info": {
   "codemirror_mode": {
    "name": "ipython",
    "version": 3
   },
   "file_extension": ".py",
   "mimetype": "text/x-python",
   "name": "python",
   "nbconvert_exporter": "python",
   "pygments_lexer": "ipython3",
   "version": "3.8.8"
  }
 },
 "nbformat": 4,
 "nbformat_minor": 5
}

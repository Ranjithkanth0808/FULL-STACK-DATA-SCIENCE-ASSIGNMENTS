{
 "cells": [
  {
   "cell_type": "code",
   "execution_count": 1,
   "id": "c5c3e6b4",
   "metadata": {},
   "outputs": [
    {
     "name": "stdout",
     "output_type": "stream",
     "text": [
      "Enter the number5\n",
      "120\n"
     ]
    }
   ],
   "source": [
    "#1.Write a Python Program to Find the Factorial of a Number?\n",
    "num = int(input(\"Enter the number\"))\n",
    "sum = 1\n",
    "for i in range(1,num+1):\n",
    "    sum = sum * i\n",
    "print(sum)\n"
   ]
  },
  {
   "cell_type": "code",
   "execution_count": 2,
   "id": "d17d7410",
   "metadata": {},
   "outputs": [
    {
     "name": "stdout",
     "output_type": "stream",
     "text": [
      "1 x 2 = 2\n",
      "2 x 2 = 4\n",
      "3 x 2 = 6\n",
      "4 x 2 = 8\n",
      "5 x 2 = 10\n",
      "6 x 2 = 12\n",
      "7 x 2 = 14\n",
      "8 x 2 = 16\n",
      "9 x 2 = 18\n",
      "10 x 2 = 20\n",
      "11 x 2 = 22\n",
      "12 x 2 = 24\n",
      "13 x 2 = 26\n",
      "14 x 2 = 28\n",
      "15 x 2 = 30\n",
      "16 x 2 = 32\n",
      "17 x 2 = 34\n",
      "18 x 2 = 36\n",
      "19 x 2 = 38\n",
      "20 x 2 = 40\n"
     ]
    }
   ],
   "source": [
    "#2.Write a Python Program to Display the multiplication Table? \n",
    "for i in range(1,21): \n",
    "    print(\"{0} x {1} = {2}\".format(i,2,i*2))\n",
    "    \n"
   ]
  },
  {
   "cell_type": "code",
   "execution_count": 3,
   "id": "012808a1",
   "metadata": {},
   "outputs": [
    {
     "name": "stdout",
     "output_type": "stream",
     "text": [
      "0\n",
      "1\n",
      "1\n",
      "2\n",
      "3\n"
     ]
    }
   ],
   "source": [
    "#3.Write a Python Program to Print the Fibonacci sequence?\n",
    "def fibonacci(n):\n",
    "    a = 0\n",
    "    b = 1\n",
    "    print(a)\n",
    "    print(b)\n",
    "    for i in range(2,n):\n",
    "        c = a+b\n",
    "        a = b\n",
    "        b = c\n",
    "        print(c)\n",
    "fibonacci(5)"
   ]
  },
  {
   "cell_type": "code",
   "execution_count": 4,
   "id": "652368a4",
   "metadata": {},
   "outputs": [
    {
     "name": "stdout",
     "output_type": "stream",
     "text": [
      "Enter a number: 153\n",
      "the 153 is an armstrong number\n"
     ]
    }
   ],
   "source": [
    "#4.Write a Python Program to Check Armstrong Number?\n",
    "num = int(input(\"Enter a number: \"))\n",
    "sum = 0\n",
    "temp = num\n",
    "while temp > 0:\n",
    "    digit = temp % 10\n",
    "    sum = sum + digit ** 3\n",
    "    temp = temp // 10\n",
    "if num == sum:\n",
    "    print(\"the\",num,\"is an armstrong number\")\n",
    "else:\n",
    "    print(\"the\",num,\"is not an armstrong number\")\n",
    "    "
   ]
  },
  {
   "cell_type": "code",
   "execution_count": 1,
   "id": "f75a5ce7",
   "metadata": {},
   "outputs": [
    {
     "name": "stdout",
     "output_type": "stream",
     "text": [
      "Enter a number: 100\n",
      "Enter a number: 1000\n",
      "153 is an armstrong number\n",
      "370 is an armstrong number\n",
      "371 is an armstrong number\n",
      "407 is an armstrong number\n"
     ]
    }
   ],
   "source": [
    "#5.Write a Python Program to Find Armstrong Number in an Interval?\n",
    "start = int(input(\"Enter a number: \"))\n",
    "end = int(input(\"Enter a number: \"))\n",
    "for i in range(start,end+1):\n",
    "    sum = 0\n",
    "    temp = i\n",
    "    while temp > 0:\n",
    "            digit = temp % 10\n",
    "            sum = sum + digit ** 3\n",
    "            temp = temp // 10\n",
    "    if i == sum:\n",
    "            print(i,\"is an armstrong number\")\n",
    "   "
   ]
  },
  {
   "cell_type": "code",
   "execution_count": 3,
   "id": "e1ddd9d7",
   "metadata": {},
   "outputs": [
    {
     "name": "stdout",
     "output_type": "stream",
     "text": [
      "Enter a number: 5\n",
      "the sum of natural numbers is 15\n"
     ]
    }
   ],
   "source": [
    "#6.Write a Python Program to Find the Sum of Natural Numbers?\n",
    "num = int(input(\"Enter a number: \"))\n",
    "if num < 0:\n",
    "    print(\"enter a positive number\")\n",
    "else:\n",
    "    a = 0\n",
    "    while (num>0):\n",
    "        a = a+num\n",
    "        num = num-1\n",
    "print(\"the sum of natural numbers is\",a)\n",
    "\n"
   ]
  },
  {
   "cell_type": "code",
   "execution_count": null,
   "id": "dd1e4d07",
   "metadata": {},
   "outputs": [],
   "source": []
  }
 ],
 "metadata": {
  "kernelspec": {
   "display_name": "Python 3",
   "language": "python",
   "name": "python3"
  },
  "language_info": {
   "codemirror_mode": {
    "name": "ipython",
    "version": 3
   },
   "file_extension": ".py",
   "mimetype": "text/x-python",
   "name": "python",
   "nbconvert_exporter": "python",
   "pygments_lexer": "ipython3",
   "version": "3.8.8"
  }
 },
 "nbformat": 4,
 "nbformat_minor": 5
}

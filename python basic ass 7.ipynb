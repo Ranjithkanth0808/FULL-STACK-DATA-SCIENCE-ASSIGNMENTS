{
 "cells": [
  {
   "cell_type": "raw",
   "id": "308002f5",
   "metadata": {},
   "source": [
    "1. What is the name of the feature responsible for generating Regex objects?\n",
    "ANS : The re. compile() function returns Regex objects."
   ]
  },
  {
   "cell_type": "raw",
   "id": "6ec205af",
   "metadata": {},
   "source": [
    "2. Why do raw strings often appear in Regex objects?\n",
    "ANS : Since regular expressions frequently use backslashes in them, it is convenient to pass raw strings to the re.compile() function instead of typing extra backslashes."
   ]
  },
  {
   "cell_type": "raw",
   "id": "53f7dc39",
   "metadata": {},
   "source": [
    "3. What is the return value of the search() method?\n",
    "ANS : The re.search() method is a  function of re module in python. These functions are very efficient and fast for searching in strings. The function searches for some substring in a string and returns a match object if found, else it returns none."
   ]
  },
  {
   "cell_type": "raw",
   "id": "7da43ab5",
   "metadata": {},
   "source": [
    "4. From a Match item, how do you get the actual strings that match the pattern?\n",
    "ANS : The group() method returns strings of the matched text"
   ]
  },
  {
   "cell_type": "raw",
   "id": "1f67e198",
   "metadata": {},
   "source": [
    "5. In the regex which created from the r&#39;(\\d\\d\\d)-(\\d\\d\\d-\\d\\d\\d\\d)&#39;, what does group zero cover?Group 2? Group 1?\n",
    "ANS : Group 0 is the entire match, group 1 covers the first set of parentheses, and group 2 covers the second set of parentheses."
   ]
  },
  {
   "cell_type": "raw",
   "id": "cdeccfc6",
   "metadata": {},
   "source": [
    "6. In standard expression syntax, parentheses and intervals have distinct meanings. How can you tell\n",
    "a regex that you want it to fit real parentheses and periods?\n",
    "ANS : Periods and parentheses can be escaped with a backslash: \\., \\(, and \\)."
   ]
  },
  {
   "cell_type": "raw",
   "id": "e8d3c271",
   "metadata": {},
   "source": [
    "7. The findall() method returns a string list or a list of string tuples. What causes it to return one of\n",
    "the two options?\n",
    "ANS : If the regex has no groups, a list of strings is returned. If the regex has groups, a list of tuples of strings is returned."
   ]
  },
  {
   "cell_type": "raw",
   "id": "5ed8c87d",
   "metadata": {},
   "source": [
    "8. In standard expressions, what does the | character mean?\n",
    "\n",
    "ANS: The | character signifies matching “either, or” between two groups."
   ]
  },
  {
   "cell_type": "raw",
   "id": "e9d3c236",
   "metadata": {},
   "source": [
    "9. In regular expressions, what does the character stand for?\n",
    "ANS : Character not mentioned in question"
   ]
  },
  {
   "cell_type": "raw",
   "id": "d9af3c3e",
   "metadata": {},
   "source": [
    "10.In regular expressions, what is the difference between the + and * characters?\n",
    "\n",
    "Ans: The + matches one or more. The * matches zero or more."
   ]
  },
  {
   "cell_type": "raw",
   "id": "70e836bb",
   "metadata": {},
   "source": [
    "11.What is the difference between {4} and {4,5} in regular expression?\n",
    "\n",
    "Ans: The {4} matches exactly three instances of the preceding group. The {4,5} matches between four and five instances."
   ]
  },
  {
   "cell_type": "raw",
   "id": "7b326b08",
   "metadata": {},
   "source": [
    "12.What do you mean by the \\d, \\w, and \\s shorthand character classes signify in regular expressions?\n",
    "\n",
    "Ans: The \\d, \\w, and \\s shorthand character classes match a single digit, word, or space character, respectively."
   ]
  },
  {
   "cell_type": "raw",
   "id": "78ccf1f1",
   "metadata": {},
   "source": [
    "13. What do means by \\D, \\W, and \\S shorthand character classes signify in regular expressions?\n",
    "\n",
    "Ans: The \\D, \\W, and \\S shorthand character classes match a single character that is not a digit, word, or space character, respectively"
   ]
  },
  {
   "cell_type": "raw",
   "id": "4d2bd5f9",
   "metadata": {},
   "source": [
    "14. What is the difference between .* and .*?\n",
    "\n",
    "Ans: The .* performs a greedy match, and the .*? performs a nongreedy match."
   ]
  },
  {
   "cell_type": "raw",
   "id": "bd32bd89",
   "metadata": {},
   "source": [
    "15. What is the syntax for matching both numbers and lowercase letters with a character class?\n",
    "\n",
    "Ans: Either [0-9a-z] or [a-z0-9]"
   ]
  },
  {
   "cell_type": "raw",
   "id": "fcd5e70c",
   "metadata": {},
   "source": [
    "16. What is the procedure for making a normal expression in regax case insensitive?\n",
    "\n",
    "Ans: Passing re.I or re.IGNORECASE as the second argument to re.compile() will make the matching case insensitive."
   ]
  },
  {
   "cell_type": "raw",
   "id": "f6b5ad4a",
   "metadata": {},
   "source": [
    "17. What does the . character normally match? What does it match if re.DOTALL is passed as 2nd argument in re.compile()?\n",
    "\n",
    "Ans: The . character normally matches any character except the newline character. If re.DOTALL is passed as the second argument to re.compile(), then the dot will also match newline characters."
   ]
  },
  {
   "cell_type": "raw",
   "id": "9e21461e",
   "metadata": {},
   "source": [
    "18.If numReg = re.compile(r'\\d+'), what will numRegex.sub('X', '11 drummers, 10 pipers, five rings, 4 hen') return?\n",
    "\n",
    "Ans: 'X drummers, X pipers, five rings, X hens'"
   ]
  },
  {
   "cell_type": "raw",
   "id": "4a2acacd",
   "metadata": {},
   "source": [
    "19.What does passing re.VERBOSE as the 2nd argument to re.compile() allow to do?\n",
    "\n",
    "Ans: The re.VERBOSE argument allows you to add whitespace and comments to the string passed to re.compile()"
   ]
  },
  {
   "cell_type": "raw",
   "id": "d25bce0d",
   "metadata": {},
   "source": [
    "20. How would you write a regex that match a number with comma for every three digits? It must match the given following:\n",
    "\n",
    "'42'\n",
    "\n",
    "'1,234'\n",
    "\n",
    "'6,368,745'\n",
    "\n",
    "but not the following:\n",
    "\n",
    "'12,34,567' (which has only two digits between the commas)\n",
    "\n",
    "'1234' (which lacks commas)\n",
    "\n",
    "Ans: re.compile(r'^\\d{1,3}(,{3})*$') will create this regex, but other regex strings can produce a similar regular expression."
   ]
  },
  {
   "cell_type": "raw",
   "id": "b5bf9904",
   "metadata": {},
   "source": [
    "21. How would you write a regex that matches the full name of someone whose last name is Watanabe? You can assume that the first name that comes before it will always be one word that begins with a capital letter. The regex must match the following:\n",
    "\n",
    "'Haruto Watanabe'\n",
    "\n",
    "'Alice Watanabe'\n",
    "\n",
    "'RoboCop Watanabe'\n",
    "\n",
    "but not the following:\n",
    "\n",
    "'haruto Watanabe' (where the first name is not capitalized)\n",
    "\n",
    "'Mr. Watanabe' (where the preceding word has a nonletter character)\n",
    "\n",
    "'Watanabe' (which has no first name)\n",
    "\n",
    "'Haruto watanabe' (where Watanabe is not capitalized)\n",
    "\n",
    "Ans: re.compile(r'[A-Z][a-z]*\\sWatanabe')"
   ]
  },
  {
   "cell_type": "raw",
   "id": "7ce83484",
   "metadata": {},
   "source": [
    "21. How would you write a regex that matches a sentence where the first word is either Alice, Bob, or Carol; the second word is either eats, pets, or throws; the third word is apples, cats, or baseballs; and the sentence ends with a period? This regex should be case-insensitive. It must match the following:\n",
    "\n",
    "'Alice eats apples.'\n",
    "\n",
    "'Bob pets cats.'\n",
    "\n",
    "'Carol throws baseballs.'\n",
    "\n",
    "'Alice throws Apples.'\n",
    "\n",
    "'BOB EATS CATS.'\n",
    "\n",
    "but not the following:\n",
    "\n",
    "'RoboCop eats apples.'\n",
    "\n",
    "'ALICE THROWS FOOTBALLS.'\n",
    "\n",
    "'Carol eats 7 cats.'\n",
    "\n",
    "Ans: re.compile(r'(Alice|Bob|Carol)\\s(eats|pets|throws)\\ s(apples|cats|baseballs)\\.', re.IGNORECASE)"
   ]
  },
  {
   "cell_type": "code",
   "execution_count": null,
   "id": "518de3bf",
   "metadata": {},
   "outputs": [],
   "source": []
  },
  {
   "cell_type": "code",
   "execution_count": null,
   "id": "6126994c",
   "metadata": {},
   "outputs": [],
   "source": []
  }
 ],
 "metadata": {
  "kernelspec": {
   "display_name": "Python 3",
   "language": "python",
   "name": "python3"
  },
  "language_info": {
   "codemirror_mode": {
    "name": "ipython",
    "version": 3
   },
   "file_extension": ".py",
   "mimetype": "text/x-python",
   "name": "python",
   "nbconvert_exporter": "python",
   "pygments_lexer": "ipython3",
   "version": "3.8.8"
  }
 },
 "nbformat": 4,
 "nbformat_minor": 5
}

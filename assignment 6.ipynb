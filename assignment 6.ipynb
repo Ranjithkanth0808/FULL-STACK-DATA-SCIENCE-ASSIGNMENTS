{
 "cells": [
  {
   "cell_type": "markdown",
   "id": "205d11ce",
   "metadata": {},
   "source": [
    "##1. What are escape characters, and how do you use them?\n",
    "While inserting characters that are illegal in a string, we use an escape character.\n",
    "An escape character is a backslash \\ followed by the character you want to insert.\n",
    "examples : \\'\tSingle Quote\t\n",
    "           \\\\\tBackslash\t\n",
    "           \\n\tNew Line\t\n",
    "           \\r\tCarriage Return\t\n",
    "           \\t\tTab\t\n",
    "           \\b\tBackspace\t\n",
    "           \\f\tForm Feed\t\n",
    "           \\ooo\tOctal value\t\n",
    "           \\xhh\tHex value"
   ]
  },
  {
   "cell_type": "code",
   "execution_count": 1,
   "id": "e49fd7c3",
   "metadata": {},
   "outputs": [],
   "source": [
    "##2. What do the escape characters n and t stand for?\n",
    "##\"\\n\" is a newline,\"\\t\" is a tab. "
   ]
  },
  {
   "cell_type": "markdown",
   "id": "814f57ea",
   "metadata": {},
   "source": [
    "##3. What is the way to include backslash characters in a string?\n",
    "\"\\\" is used in a string for including escape characters followed by the task to perform and the rest of the string "
   ]
  },
  {
   "cell_type": "markdown",
   "id": "0e7f5d1c",
   "metadata": {},
   "source": [
    "##4. The string \"Howl's Moving Castle\" is a correct value. Why isn't the single quote character in the word Howl's not escaped a problem?\n",
    "The single quote in Howl's is fine because you've used double quotes to mark the beginning and end of the string."
   ]
  },
  {
   "cell_type": "markdown",
   "id": "6cd24e56",
   "metadata": {},
   "source": [
    "##5. How do you write a string of newlines if you don't want to use the n character?\n",
    "we can use print in-built function in case where we don't want to use the n escape character , what print statement does is print the value in a new line."
   ]
  },
  {
   "cell_type": "code",
   "execution_count": 1,
   "id": "1c39a439",
   "metadata": {},
   "outputs": [
    {
     "data": {
      "text/plain": [
       "'e'"
      ]
     },
     "execution_count": 1,
     "metadata": {},
     "output_type": "execute_result"
    }
   ],
   "source": [
    "##6. What are the values of the given expressions?\n",
    "'Hello, world!'[1]\n"
   ]
  },
  {
   "cell_type": "code",
   "execution_count": 2,
   "id": "59e374ca",
   "metadata": {},
   "outputs": [
    {
     "data": {
      "text/plain": [
       "'Hello'"
      ]
     },
     "execution_count": 2,
     "metadata": {},
     "output_type": "execute_result"
    }
   ],
   "source": [
    "'Hello, world!'[0:5]"
   ]
  },
  {
   "cell_type": "code",
   "execution_count": 3,
   "id": "06ebefd2",
   "metadata": {},
   "outputs": [
    {
     "data": {
      "text/plain": [
       "'Hello'"
      ]
     },
     "execution_count": 3,
     "metadata": {},
     "output_type": "execute_result"
    }
   ],
   "source": [
    "'Hello, world!'[:5]"
   ]
  },
  {
   "cell_type": "code",
   "execution_count": 23,
   "id": "206e9824",
   "metadata": {},
   "outputs": [
    {
     "data": {
      "text/plain": [
       "'lo, world!'"
      ]
     },
     "execution_count": 23,
     "metadata": {},
     "output_type": "execute_result"
    }
   ],
   "source": [
    "'Hello, world!'[3:]"
   ]
  },
  {
   "cell_type": "code",
   "execution_count": 26,
   "id": "8a36073c",
   "metadata": {},
   "outputs": [
    {
     "data": {
      "text/plain": [
       "'HELLO'"
      ]
     },
     "execution_count": 26,
     "metadata": {},
     "output_type": "execute_result"
    }
   ],
   "source": [
    "##7. What are the values of the following expressions?\n",
    "'Hello'.upper()\n",
    "\n"
   ]
  },
  {
   "cell_type": "code",
   "execution_count": 27,
   "id": "264275d4",
   "metadata": {},
   "outputs": [
    {
     "data": {
      "text/plain": [
       "True"
      ]
     },
     "execution_count": 27,
     "metadata": {},
     "output_type": "execute_result"
    }
   ],
   "source": [
    "'Hello'.upper().isupper()"
   ]
  },
  {
   "cell_type": "code",
   "execution_count": 28,
   "id": "7d0812dc",
   "metadata": {},
   "outputs": [
    {
     "data": {
      "text/plain": [
       "'hello'"
      ]
     },
     "execution_count": 28,
     "metadata": {},
     "output_type": "execute_result"
    }
   ],
   "source": [
    "'Hello'.upper().lower()"
   ]
  },
  {
   "cell_type": "code",
   "execution_count": 32,
   "id": "e92cff48",
   "metadata": {},
   "outputs": [
    {
     "data": {
      "text/plain": [
       "['Remember,', 'remember,', 'the', 'fifth', 'of', 'July.']"
      ]
     },
     "execution_count": 32,
     "metadata": {},
     "output_type": "execute_result"
    }
   ],
   "source": [
    "##8. What are the values of the following expressions?\n",
    "'Remember, remember, the fifth of July.'.split()"
   ]
  },
  {
   "cell_type": "code",
   "execution_count": 34,
   "id": "9cd7c22b",
   "metadata": {},
   "outputs": [
    {
     "data": {
      "text/plain": [
       "'There-can-only-one.'"
      ]
     },
     "execution_count": 34,
     "metadata": {},
     "output_type": "execute_result"
    }
   ],
   "source": [
    "'-'.join('There can only one.'.split())"
   ]
  },
  {
   "cell_type": "code",
   "execution_count": null,
   "id": "50383293",
   "metadata": {},
   "outputs": [],
   "source": [
    "##9. What are the methods for right-justifying, left-justifying, and centering a string?\n",
    "center()\tReturns a centered string.\n",
    "ljust()\tReturns a left justified version of the string.\n",
    "rjust()\tReturns a right justified version of the string."
   ]
  },
  {
   "cell_type": "code",
   "execution_count": null,
   "id": "757817f4",
   "metadata": {},
   "outputs": [],
   "source": [
    "##10. What is the best way to remove whitespace characters from the start or end?\n",
    "rstrip()\trstrip() method removes whitespace at the end of a string.\n",
    "lstrip()\tlstrip() method removes whitespace at the beginning of a string.\n",
    "strip()\tstrip() method removes whitespace at the beginning and end (both sides) of a string."
   ]
  }
 ],
 "metadata": {
  "kernelspec": {
   "display_name": "Python 3",
   "language": "python",
   "name": "python3"
  },
  "language_info": {
   "codemirror_mode": {
    "name": "ipython",
    "version": 3
   },
   "file_extension": ".py",
   "mimetype": "text/x-python",
   "name": "python",
   "nbconvert_exporter": "python",
   "pygments_lexer": "ipython3",
   "version": "3.8.8"
  }
 },
 "nbformat": 4,
 "nbformat_minor": 5
}

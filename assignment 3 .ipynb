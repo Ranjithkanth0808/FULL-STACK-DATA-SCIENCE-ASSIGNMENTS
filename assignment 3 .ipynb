{
 "cells": [
  {
   "cell_type": "markdown",
   "id": "fe4cf153",
   "metadata": {},
   "source": [
    "#1. Why are functions advantageous to have in your programs?\n",
    "ANS: A function is a block of reusable code that is used to perform a specific action. The advantages of using functions are:\n",
    "Reducing duplication of code,decomposing complex problems into simpler pieces,Improving clarity of the code. Functions can be assigned to variables, stored in collections, or passed as arguments. This brings additional flexibility to the language."
   ]
  },
  {
   "cell_type": "markdown",
   "id": "2b88a254",
   "metadata": {},
   "source": [
    "#2. When does the code in a function run: when it's specified or when it's called?\n",
    "ANS: Code in a function runs usually when the function is called in a particular task. "
   ]
  },
  {
   "cell_type": "markdown",
   "id": "bd9c7d71",
   "metadata": {},
   "source": [
    "#3. What statement creates a function?\n",
    "ans: Function blocks begin with the keyword \"def\" followed by the function name and parentheses ( )."
   ]
  },
  {
   "cell_type": "markdown",
   "id": "c1e5e4fe",
   "metadata": {},
   "source": [
    "#4. What is the difference between a function and a function call?\n",
    "ANS: A function is a block of code that does a particular operation and returns a result. It usually accepts inputs as parameters and returns a result. A function call is the code used to pass control to a function."
   ]
  },
  {
   "cell_type": "markdown",
   "id": "7d87f24f",
   "metadata": {},
   "source": [
    "#5. How many global scopes are there in a Python program? How many local scopes?\n",
    "There is only one global and local scope as per python. Global variables are those which are not defined inside any function and have a global scope whereas local variables are those which are defined inside a function and its scope is limited to that function only."
   ]
  },
  {
   "cell_type": "markdown",
   "id": "95dbc106",
   "metadata": {},
   "source": [
    "#6. What happens to variables in a local scope when the function call returns?\n",
    "A local variable retains its value until the next time the function is called A local variable becomes undefined after the function call completes The local variable can be used outside the function any time after the function call completes"
   ]
  },
  {
   "cell_type": "markdown",
   "id": "4a5e5713",
   "metadata": {},
   "source": [
    "#7. What is the concept of a return value? Is it possible to have a return value in an expression?\n",
    "A return is a value that a function returns to the calling script or function when it completes its task. A return value can be any one of the four variable types: handle, integer, object, or string. The type of value your function returns depends largely on the task it performs."
   ]
  },
  {
   "cell_type": "markdown",
   "id": "ae3f3c2a",
   "metadata": {},
   "source": [
    "#8. If a function does not have a return statement, what is the return value of a call to that function?\n",
    "If a function doesn't specify a return value, it returns None"
   ]
  },
  {
   "cell_type": "markdown",
   "id": "a61240f4",
   "metadata": {},
   "source": [
    "#9. How do you make a function variable refer to the global variable?\n",
    "If you want to refer to a global variable in a function, you can use the global keyword to declare which variables are global"
   ]
  },
  {
   "cell_type": "markdown",
   "id": "489642b8",
   "metadata": {},
   "source": [
    "#10. What is the data type of None?\n",
    "The None keyword is used to define a null value, or no value at all. None is not the same as 0, False, or an empty string. None is a data type of its own (NoneType) and only None can be None."
   ]
  },
  {
   "cell_type": "markdown",
   "id": "60f74c25",
   "metadata": {},
   "source": [
    "#11. What does the sentence import areallyourpetsnamederic do?\n",
    "That import statement areallyourpetsnamederic imports a module named areallyourpetsnamederic."
   ]
  },
  {
   "cell_type": "markdown",
   "id": "dda21e09",
   "metadata": {},
   "source": [
    "#12. If you had a bacon() feature in a spam module, what would you call it after importing spam?\n",
    " After importing the spam module we can call spam. bacon() to enable the task which bacon() feature does.\n",
    "    "
   ]
  },
  {
   "cell_type": "markdown",
   "id": "2bdc857c",
   "metadata": {},
   "source": [
    "#13. What can you do to save a programme from crashing if it encounters an error?\n",
    "If an error occurs in a program, we don’t want the program to unexpectedly crash on the user. Instead, error handling can be used to notify the user of why the error occurred and gracefully exit the process that caused the error."
   ]
  },
  {
   "cell_type": "markdown",
   "id": "be9321c0",
   "metadata": {},
   "source": [
    "#14. What is the purpose of the try clause? What is the purpose of the except clause?\n",
    "The try block allows you to test a block of code for errors. The except block enables you to handle the error with a user-defined response."
   ]
  }
 ],
 "metadata": {
  "kernelspec": {
   "display_name": "Python 3",
   "language": "python",
   "name": "python3"
  },
  "language_info": {
   "codemirror_mode": {
    "name": "ipython",
    "version": 3
   },
   "file_extension": ".py",
   "mimetype": "text/x-python",
   "name": "python",
   "nbconvert_exporter": "python",
   "pygments_lexer": "ipython3",
   "version": "3.8.8"
  }
 },
 "nbformat": 4,
 "nbformat_minor": 5
}

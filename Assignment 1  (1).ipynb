{
 "cells": [
  {
   "cell_type": "markdown",
   "id": "bbfaa412",
   "metadata": {},
   "source": [
    " 1. In the below elements which of them are values or an expression? \n",
    " (A)*\n",
    " (B)'hello'\n",
    " (C)-87.8\n",
    " (D)  - \n",
    " (E)  / \n",
    " (F)  +\n",
    " (G)   6 \n",
    "\n",
    "\n",
    "ANS: Option (B) (C) (D) are generally called values and the remaining options are expressions."
   ]
  },
  {
   "cell_type": "markdown",
   "id": "d90e0f8d",
   "metadata": {},
   "source": [
    "2. What is the difference between string and variable?\n",
    "\n",
    "ANS: A variable is basically the name of the location in the primary memory of your computer. This can be chosen by you. A variable can store everything from strings to numbers.\n",
    "\n",
    "A string is the values inside the quotes assigned to a string.Python detects the type of variable automatically. A string is written between single,double or triple quotes. \n",
    "\n",
    "A variable can hold a string, but a string can't hold a variable"
   ]
  },
  {
   "cell_type": "markdown",
   "id": "3288780b",
   "metadata": {},
   "source": [
    "3. Describe three different data types.\n",
    "ANS:\n",
    "python generally consists of five data types such as,\n",
    " >== Numeric \n",
    ">== Dictionary\n",
    ">== Boolean \n",
    ">== Set \n",
    ">== Sequence type\n",
    "\n",
    "Numeric data type:\n",
    "\n",
    "Numeric data types generally consist of three data types such as,\n",
    " *Integer ( generally the whole number is known as numeric data type \n",
    "eg: 14,125\n",
    "*Float (float data type usually consist of decimal numbers )\n",
    "eg: 12.03\n",
    "*Complex (generally the complex data type in pythom\\n consist of a complex number which has both real and imaginary part as per the Mathematics )\n",
    "eg: 64+12j (wherein python \"j\" is usually used in imaginary part in case of \"i\" as per python programming language )\n",
    "\n",
    "Boolean data type :\n",
    "\n",
    "Python boolean type is one of the built-in data types provided by Python, which represents one of the two values i.e. True or False. Generally, it is used to represent the truth values of the expressions. For example, 1== 0 is True whereas 2<1 is False\n",
    "\n",
    "Set data type :\n",
    "\n",
    "Sets are used to store multiple items in a single variable.\n",
    "A set is a collection that is unordered, unchangeable, and unindexed. Set does not allow duplicate values. Sets are written with curly brackets. Sets are unordered, so you cannot be sure in which order the items will appear."
   ]
  },
  {
   "cell_type": "markdown",
   "id": "8e51a49d",
   "metadata": {},
   "source": [
    "4. What is an expression made up of? What do all expressions do?\n",
    "\n",
    "ANS: An expression is a combination of values, variables, operators, and calls to functions. Expressions need to be evaluated. If you ask Python to print an expression, the interpreter evaluates the expression and displays the result.If you type an expression on the command line, the interpreter evaluates it and displays the result."
   ]
  },
  {
   "cell_type": "markdown",
   "id": "72e2d61c",
   "metadata": {},
   "source": [
    "5. This assignment statements, like spam = 10. What is the difference between an expression and a statement?\n",
    "\n",
    "ANS: A statement does something. Statements represent an action or command e.g print statements, assignment statements. Expression is a combination of variables, operations and values that yields a result value. If you ask Python to print an expression, the interpreter evaluates the expression and displays the result. Here  as per your question \"spam = 10\" is the expression kind of thing in which the variable is assigned a value to it\n"
   ]
  },
  {
   "cell_type": "code",
   "execution_count": 1,
   "id": "d55d35d6",
   "metadata": {},
   "outputs": [
    {
     "data": {
      "text/plain": [
       "23"
      ]
     },
     "execution_count": 1,
     "metadata": {},
     "output_type": "execute_result"
    }
   ],
   "source": [
    "6.## After running the following code, what does the variable bacon contain?\n",
    "bacon = 22\n",
    "bacon + 1\n",
    "##ANS: The variable bacon contain 23 as the value"
   ]
  },
  {
   "cell_type": "code",
   "execution_count": 2,
   "id": "de668334",
   "metadata": {},
   "outputs": [
    {
     "data": {
      "text/plain": [
       "'spamspamspam'"
      ]
     },
     "execution_count": 2,
     "metadata": {},
     "output_type": "execute_result"
    }
   ],
   "source": [
    "7. ##What should the values of the following two terms be?\n",
    "'spam' + 'spamspam'\n",
    "'spam' * 3\n",
    "##ANS: 'spamspamspam'"
   ]
  },
  {
   "cell_type": "markdown",
   "id": "7cf893f7",
   "metadata": {},
   "source": [
    "8. Why is eggs a valid variable name while 100 is invalid?\n",
    "\n",
    "ANS: A variable can contain both letters and numbers, but they cannot start with a number. So, variable \"eggs\" is valid while variable \"100\" is a invalid name."
   ]
  },
  {
   "cell_type": "markdown",
   "id": "d6b3d838",
   "metadata": {},
   "source": [
    "9. What three functions can be used to get the integer, floating-point number, or string version of a value?\n",
    "\n",
    "ANS: The int() , float() , and str( ) functions will evaluate to the integer, floating-point number, and string versions of the value passed to them."
   ]
  },
  {
   "cell_type": "code",
   "execution_count": 4,
   "id": "720a4eee",
   "metadata": {},
   "outputs": [
    {
     "data": {
      "text/plain": [
       "'I have eaten 99 burritos.'"
      ]
     },
     "execution_count": 4,
     "metadata": {},
     "output_type": "execute_result"
    }
   ],
   "source": [
    "10. ##Why does this expression cause an error? How can you fix it?\n",
    "    ## 'I have eaten ' + 99 + ' burritos.'\n",
    "\n",
    "## ANS: In the above following code, it contains a combination of string and integer data types and we cannot perform mathematical operations of different data types in python, only we can perform mathematical operations in the same data type in python. We can put the integer in to single or double quotes so that it changes to string data type and we can perform concatenate operations in it \n",
    "'I have eaten ' + '99' + ' burritos.'"
   ]
  },
  {
   "cell_type": "code",
   "execution_count": null,
   "id": "73376838",
   "metadata": {},
   "outputs": [],
   "source": []
  },
  {
   "cell_type": "code",
   "execution_count": null,
   "id": "c08a2dfd",
   "metadata": {},
   "outputs": [],
   "source": []
  }
 ],
 "metadata": {
  "kernelspec": {
   "display_name": "Python 3",
   "language": "python",
   "name": "python3"
  },
  "language_info": {
   "codemirror_mode": {
    "name": "ipython",
    "version": 3
   },
   "file_extension": ".py",
   "mimetype": "text/x-python",
   "name": "python",
   "nbconvert_exporter": "python",
   "pygments_lexer": "ipython3",
   "version": "3.8.8"
  }
 },
 "nbformat": 4,
 "nbformat_minor": 5
}

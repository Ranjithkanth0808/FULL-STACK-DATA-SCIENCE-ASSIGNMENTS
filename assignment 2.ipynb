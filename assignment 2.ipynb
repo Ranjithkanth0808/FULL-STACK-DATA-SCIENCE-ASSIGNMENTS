{
 "cells": [
  {
   "cell_type": "markdown",
   "id": "66e194bb",
   "metadata": {},
   "source": [
    "#1.What are the two values of the Boolean data type? How do you write them?\n",
    " ANS: Python boolean data type is one of the built-in data types which represents either True or False. A Boolean data type is one with two choices: True or False, yes or no, 1 or 0"
   ]
  },
  {
   "cell_type": "markdown",
   "id": "23b7a97d",
   "metadata": {},
   "source": [
    "#2. What are the three different types of Boolean operators?\n",
    "ANS: The three Boolean operators are AND, OR, NOT. These three Boolean operators are used to compare values and evaluate expressions down to boolean values returning either True or False."
   ]
  },
  {
   "cell_type": "markdown",
   "id": "ef993918",
   "metadata": {},
   "source": [
    "#3. Make a list of each Boolean operator's truth tables (i.e. every possible combination of Boolean\n",
    "values for the operator and what it evaluate ).\n",
    "ANS: [A     B    A AND B   A OR B \n",
    " True  True   True      True\n",
    " False True   False     True\n",
    " True  False  False     True\n",
    " False False  False     False ]"
   ]
  },
  {
   "cell_type": "code",
   "execution_count": 1,
   "id": "384f8f7b",
   "metadata": {},
   "outputs": [
    {
     "data": {
      "text/plain": [
       "False"
      ]
     },
     "execution_count": 1,
     "metadata": {},
     "output_type": "execute_result"
    }
   ],
   "source": [
    "#4. What are the values of the following expressions?\n",
    "(5 > 4) and (3 == 5)\n",
    "not (5 > 4)"
   ]
  },
  {
   "cell_type": "code",
   "execution_count": 2,
   "id": "12c7f29d",
   "metadata": {},
   "outputs": [
    {
     "data": {
      "text/plain": [
       "False"
      ]
     },
     "execution_count": 2,
     "metadata": {},
     "output_type": "execute_result"
    }
   ],
   "source": [
    "(5 > 4) or (3 == 5)\n",
    "not ((5 > 4) or (3 == 5))"
   ]
  },
  {
   "cell_type": "code",
   "execution_count": 3,
   "id": "4c727def",
   "metadata": {},
   "outputs": [
    {
     "data": {
      "text/plain": [
       "True"
      ]
     },
     "execution_count": 3,
     "metadata": {},
     "output_type": "execute_result"
    }
   ],
   "source": [
    "(True and True) and (True == False)\n",
    "(not False) or (not True)\n"
   ]
  },
  {
   "cell_type": "markdown",
   "id": "789b826a",
   "metadata": {},
   "source": [
    "#5. What are the six comparison operators?\n",
    "ANS: There are six main comparison operators: equal to(==), not equal to(!=), greater than(>), greater than or equal to(>=), less than(<), and less than or equal to(<=). Different programming languages use different syntax to express these operators, but the meanings are the same."
   ]
  },
  {
   "cell_type": "markdown",
   "id": "890c6b9b",
   "metadata": {},
   "source": [
    "#6. How do you tell the difference between the equal to and assignment operators?Describe a condition and when you would use one?\n",
    "\n",
    "ANS: The '=' is the so-called assignment operator and is used to assign the result of the expression on the right side of the operator to the variable on the left side. The '==' is the so-called equality comparison operator and is used to check whether the two expressions on both sides are equal or not."
   ]
  },
  {
   "cell_type": "code",
   "execution_count": 4,
   "id": "0595efd2",
   "metadata": {},
   "outputs": [
    {
     "name": "stdout",
     "output_type": "stream",
     "text": [
      "ham\n",
      "spam\n",
      "spam\n"
     ]
    }
   ],
   "source": [
    "#7. Identify the three blocks in this code:\n",
    "spam = 0\n",
    "if spam == 10:\n",
    "    print('eggs')\n",
    "if spam > 5:\n",
    "    print('bacon')\n",
    "else:\n",
    "    print('ham')\n",
    "    print('spam')\n",
    "    print('spam')\n"
   ]
  },
  {
   "cell_type": "code",
   "execution_count": 5,
   "id": "5a166a78",
   "metadata": {},
   "outputs": [
    {
     "name": "stdout",
     "output_type": "stream",
     "text": [
      "Greetings\n"
     ]
    }
   ],
   "source": [
    "#8. Write code that prints Hello if 1 is stored in spam, prints Howdy if 2 is stored in spam, and prints Greetings! if anything else is stored in spam.\n",
    "spam = 5\n",
    "if spam==1:\n",
    "    print(\"Hello\")\n",
    "elif spam==2:\n",
    "    print(\"Howdy\")\n",
    "else:\n",
    "    print(\"Greetings\")"
   ]
  },
  {
   "cell_type": "markdown",
   "id": "373ffe3a",
   "metadata": {},
   "source": [
    "#9.If your programme is stuck in an endless loop, what keys you’ll press?\n",
    "ANS: An infinite loop occurs when a program keeps executing within one loop, never leaving it. To exit out of infinite loops on the command line, press CTRL + C"
   ]
  },
  {
   "cell_type": "markdown",
   "id": "a4d2822f",
   "metadata": {},
   "source": [
    "#10. How can you tell the difference between break and continue?\n",
    "ANS: The Python break statement stops the loop in which the statement is placed. A Python continue statement skips a single iteration in a loop."
   ]
  },
  {
   "cell_type": "markdown",
   "id": "947825b7",
   "metadata": {},
   "source": [
    "#11. In a for loop, what is the difference between range(10), range(0, 10), and range(0, 10, 1)?\n",
    "ANS: In a for loop the range(10),range(0,10),range(0,10,1) gives us the same result in a loop. In the range(10) even though we do not mention the starting point the range function will execute from \"0\" and will execute except the upper bound \"10\" till \"9\"."
   ]
  },
  {
   "cell_type": "code",
   "execution_count": 6,
   "id": "4ad9a1e4",
   "metadata": {},
   "outputs": [
    {
     "name": "stdout",
     "output_type": "stream",
     "text": [
      "1\n",
      "2\n",
      "3\n",
      "4\n",
      "5\n",
      "6\n",
      "7\n",
      "8\n",
      "9\n",
      "10\n"
     ]
    }
   ],
   "source": [
    "#12. Write a short program that prints the numbers 1 to 10 using a for loop. Then write an equivalent program that prints the numbers 1 to 10 using a while loop.\n",
    "for i in range(1,11):\n",
    "    print(i)"
   ]
  },
  {
   "cell_type": "code",
   "execution_count": 1,
   "id": "f72c1984",
   "metadata": {},
   "outputs": [
    {
     "name": "stdout",
     "output_type": "stream",
     "text": [
      "1\n",
      "2\n",
      "3\n",
      "4\n",
      "5\n",
      "6\n",
      "7\n",
      "8\n",
      "9\n",
      "10\n"
     ]
    }
   ],
   "source": [
    "a = 1\n",
    "while a<=10:\n",
    "    print(a)\n",
    "    a+= 1"
   ]
  },
  {
   "cell_type": "markdown",
   "id": "f4b97ce9",
   "metadata": {},
   "source": [
    "#13. If you had a function named bacon() inside a module named spam, how would you call it after importing spam?\n",
    "ANS: If you had a function named bacon() inside a module named spam, This function can be called with spam. bacon()."
   ]
  }
 ],
 "metadata": {
  "kernelspec": {
   "display_name": "Python 3",
   "language": "python",
   "name": "python3"
  },
  "language_info": {
   "codemirror_mode": {
    "name": "ipython",
    "version": 3
   },
   "file_extension": ".py",
   "mimetype": "text/x-python",
   "name": "python",
   "nbconvert_exporter": "python",
   "pygments_lexer": "ipython3",
   "version": "3.8.8"
  }
 },
 "nbformat": 4,
 "nbformat_minor": 5
}

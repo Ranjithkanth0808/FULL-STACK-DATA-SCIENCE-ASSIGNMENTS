{
 "cells": [
  {
   "cell_type": "markdown",
   "id": "5d93f90b",
   "metadata": {},
   "source": [
    "#1.What exactly is []?\n",
    "[] is a list.A list is a data type that allows you to store various types data in it. List is a compound data type which means you can have different-2 data types under a list, for example we can have integer, float and string items in a same list."
   ]
  },
  {
   "cell_type": "code",
   "execution_count": 1,
   "id": "61dd78bc",
   "metadata": {},
   "outputs": [
    {
     "data": {
      "text/plain": [
       "[2, 4, 'hello', 8, 10]"
      ]
     },
     "execution_count": 1,
     "metadata": {},
     "output_type": "execute_result"
    }
   ],
   "source": [
    "#2. In a list of values stored in a variable called spam, how would you assign the value 'hello' as the third value? (Assume [2, 4, 6, 8, 10] are in spam.)\n",
    "spam = [2,4,6,8,10]\n",
    "spam[2] = \"hello\"\n",
    "\n",
    "spam\n"
   ]
  },
  {
   "cell_type": "code",
   "execution_count": 2,
   "id": "44f00cdd",
   "metadata": {},
   "outputs": [
    {
     "data": {
      "text/plain": [
       "'d'"
      ]
     },
     "execution_count": 2,
     "metadata": {},
     "output_type": "execute_result"
    }
   ],
   "source": [
    "spam = ['a','b','c','d']\n",
    "#3. What is the value of spam[int(int('3' * 2) / 11)]?\n",
    "spam[int(int('3' * 2) / 11)]"
   ]
  },
  {
   "cell_type": "code",
   "execution_count": 3,
   "id": "cd19a3ab",
   "metadata": {},
   "outputs": [
    {
     "data": {
      "text/plain": [
       "'d'"
      ]
     },
     "execution_count": 3,
     "metadata": {},
     "output_type": "execute_result"
    }
   ],
   "source": [
    "#4. What is the value of spam[-1]?\n",
    "spam[-1]"
   ]
  },
  {
   "cell_type": "code",
   "execution_count": 4,
   "id": "22eaca02",
   "metadata": {},
   "outputs": [
    {
     "data": {
      "text/plain": [
       "['a', 'b']"
      ]
     },
     "execution_count": 4,
     "metadata": {},
     "output_type": "execute_result"
    }
   ],
   "source": [
    "#5. What is the value of spam[:2]?\n",
    "spam[:2]"
   ]
  },
  {
   "cell_type": "code",
   "execution_count": 5,
   "id": "220590dd",
   "metadata": {},
   "outputs": [
    {
     "data": {
      "text/plain": [
       "1"
      ]
     },
     "execution_count": 5,
     "metadata": {},
     "output_type": "execute_result"
    }
   ],
   "source": [
    "bacon = [3.14, 'cat',11, 'cat',True] \n",
    "#6.What is the value of bacon.index('cat')?\n",
    "bacon.index('cat')"
   ]
  },
  {
   "cell_type": "code",
   "execution_count": 6,
   "id": "239a5e1e",
   "metadata": {},
   "outputs": [
    {
     "data": {
      "text/plain": [
       "[3.14, 'cat', 11, 'cat', True, 99]"
      ]
     },
     "execution_count": 6,
     "metadata": {},
     "output_type": "execute_result"
    }
   ],
   "source": [
    "#7. How does bacon.append(99) change the look of the list value in bacon?\n",
    "bacon.append(99)\n",
    "bacon"
   ]
  },
  {
   "cell_type": "code",
   "execution_count": 7,
   "id": "24693d55",
   "metadata": {},
   "outputs": [
    {
     "data": {
      "text/plain": [
       "[3.14, 11, 'cat', True, 99]"
      ]
     },
     "execution_count": 7,
     "metadata": {},
     "output_type": "execute_result"
    }
   ],
   "source": [
    "#8. How does bacon.remove('cat') change the look of the list in bacon?\n",
    "bacon.remove('cat')\n",
    "bacon"
   ]
  },
  {
   "cell_type": "markdown",
   "id": "f26ea5a6",
   "metadata": {},
   "source": [
    "#9. What are the list concatenation and list replication operators?\n",
    "The operator for list concatenation is +, while the operator for replication is *."
   ]
  },
  {
   "cell_type": "markdown",
   "id": "9de7b491",
   "metadata": {},
   "source": [
    "#10. What is difference between the list methods append() and insert()?\n",
    "The only difference between append() and insert() is that insert function allows us to add a specific element at a specified index of the list unlike append() where we can add the element only at end of the list."
   ]
  },
  {
   "cell_type": "markdown",
   "id": "205e7ddc",
   "metadata": {},
   "source": [
    "#11. What are the two methods for removing items from a list?\n",
    "There are three ways in which you can remove elements from List:\n",
    "*Using the remove() method.\n",
    "*Using the list object's pop() method.\n",
    "*Using the del operator."
   ]
  },
  {
   "cell_type": "markdown",
   "id": "ca2ae0fe",
   "metadata": {},
   "source": [
    "#12. Describe how list values and string values are identical.\n",
    "The similarity between Lists and Strings in Python is that both are sequences. The differences between them are that firstly, Lists are mutable but Strings are immutable. Secondly, elements of a list can be of different types whereas a String only contains characters that are all of String type."
   ]
  },
  {
   "cell_type": "markdown",
   "id": "5d915d01",
   "metadata": {},
   "source": [
    "#13. What's the difference between tuples and lists?\n",
    "The key difference between the tuples and lists is that while the tuples are immutable objects the lists are mutable. This means that tuples cannot be changed while the lists can be modified. Tuples are more memory efficient than the lists."
   ]
  },
  {
   "cell_type": "code",
   "execution_count": 8,
   "id": "68ba60ad",
   "metadata": {},
   "outputs": [
    {
     "data": {
      "text/plain": [
       "tuple"
      ]
     },
     "execution_count": 8,
     "metadata": {},
     "output_type": "execute_result"
    }
   ],
   "source": [
    "#14. How do you type a tuple value that only contains the integer 42?\n",
    "q = (42,)\n",
    "type(q)"
   ]
  },
  {
   "cell_type": "code",
   "execution_count": 9,
   "id": "dda48327",
   "metadata": {},
   "outputs": [
    {
     "data": {
      "text/plain": [
       "(1, 10, 23)"
      ]
     },
     "execution_count": 9,
     "metadata": {},
     "output_type": "execute_result"
    }
   ],
   "source": [
    "#15. How do you get a list value's tuple form? How do you get a tuple value's list form?\n",
    "#ANS: To convert a list into tuple in Python, call tuple() builtin function and pass the list as argument to the function.\n",
    "q=[1,10,23]\n",
    "r=tuple(q)\n",
    "r"
   ]
  },
  {
   "cell_type": "code",
   "execution_count": 10,
   "id": "58119b33",
   "metadata": {},
   "outputs": [
    {
     "data": {
      "text/plain": [
       "[1, 10, 23]"
      ]
     },
     "execution_count": 10,
     "metadata": {},
     "output_type": "execute_result"
    }
   ],
   "source": [
    "k=list(r)\n",
    "k"
   ]
  },
  {
   "cell_type": "markdown",
   "id": "0323221d",
   "metadata": {},
   "source": [
    "#16. Variables that \"contain\" list values are not necessarily lists themselves. Instead, what do they contain?\n",
    "A list is an ordered collection of values. The values that make up a list are called its elements, or its items. We will use the term element or item to mean the same thing. Lists are similar to strings, which are ordered collections of characters, except that the elements of a list can be of any type.It is also possible for a list to contain different data types within it as well."
   ]
  },
  {
   "cell_type": "markdown",
   "id": "df67033c",
   "metadata": {},
   "source": [
    "#17. How do you distinguish between copy.copy() and copy.deepcopy()?\n",
    "A shallow copy constructs a new compound object and then (to the extent possible) inserts references into it to the objects found in the original.\n",
    "A deep copy constructs a new compound object and then, recursively, inserts copies into it of the objects found in the original."
   ]
  }
 ],
 "metadata": {
  "kernelspec": {
   "display_name": "Python 3",
   "language": "python",
   "name": "python3"
  },
  "language_info": {
   "codemirror_mode": {
    "name": "ipython",
    "version": 3
   },
   "file_extension": ".py",
   "mimetype": "text/x-python",
   "name": "python",
   "nbconvert_exporter": "python",
   "pygments_lexer": "ipython3",
   "version": "3.8.8"
  }
 },
 "nbformat": 4,
 "nbformat_minor": 5
}

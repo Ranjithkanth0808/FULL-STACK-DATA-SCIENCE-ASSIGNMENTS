{
 "cells": [
  {
   "cell_type": "code",
   "execution_count": null,
   "id": "e5a6def7",
   "metadata": {},
   "outputs": [],
   "source": [
    "##1. To what does a relative path refer?\n",
    "ANS : A relative file path is interpreted from the perspective your current working directory. If you use a relative file path from the wrong directory, then the path will refer to a different file than you intend, or it will refer to no file at all."
   ]
  },
  {
   "cell_type": "code",
   "execution_count": null,
   "id": "9e5d0779",
   "metadata": {},
   "outputs": [],
   "source": [
    "##2. What does an absolute path start with your operating system?\n",
    "ANS : An absolute path refers to the complete details needed to locate a file or folder, starting from the root element and ending with the other subdirectories. Absolute paths are used in websites and operating systems for locating files and folders. An absolute path is also known as an absolute pathname or full path."
   ]
  },
  {
   "cell_type": "code",
   "execution_count": null,
   "id": "2b0bc567",
   "metadata": {},
   "outputs": [],
   "source": [
    "##3. What do the functions os.getcwd() and os.chdir() do?\n",
    "ANS : getcwd() : CWD stands for Current Working Directory. This function allows you to see what your current working directory is,os.chdir() method in Python used to change the current working directory to specified path. It takes only a single argument as new directory path."
   ]
  },
  {
   "cell_type": "code",
   "execution_count": null,
   "id": "88d49a9c",
   "metadata": {},
   "outputs": [],
   "source": [
    "##4. What are the . and .. folders?\n",
    "ANS : Single dot \".\" stands for current directory and double dots \"..\" mean parent directory"
   ]
  },
  {
   "cell_type": "code",
   "execution_count": null,
   "id": "55f02260",
   "metadata": {},
   "outputs": [],
   "source": [
    "##5. In C:\\bacon\\eggs\\spam.txt, which part is the dir name, and which part is the base name?\n",
    "ANS : C:\\bacon\\eggs is the dir name, while spam. txt is the base name."
   ]
  },
  {
   "cell_type": "code",
   "execution_count": null,
   "id": "cc0d8ae5",
   "metadata": {},
   "outputs": [],
   "source": [
    "##6. What are the three “mode” arguments that can be passed to the open() function?\n",
    "ANS : r - open a file in read mode. w - opens or create a text file in write mode. a - opens a file in append mode"
   ]
  },
  {
   "cell_type": "code",
   "execution_count": null,
   "id": "acd34123",
   "metadata": {},
   "outputs": [],
   "source": [
    "##7. What happens if an existing file is opened in write mode?\n",
    "ANS : If a file with the same name already exists, its contents are discarded and the file is treated as a new empty file."
   ]
  },
  {
   "cell_type": "code",
   "execution_count": null,
   "id": "9a0cb034",
   "metadata": {},
   "outputs": [],
   "source": [
    "##8. How do you tell the difference between read() and readlines()?\n",
    "ANS : The read() will read the whole file at once and then print out the first characters that take up as many bytes as you specify in the parenthesis versus the readline() that will read and print out only the first characters that take up as many bytes as you specify in the parenthesis. "
   ]
  },
  {
   "cell_type": "code",
   "execution_count": null,
   "id": "7da6b00d",
   "metadata": {},
   "outputs": [],
   "source": [
    "##9. What data structure does a shelf value resemble?\n",
    "ANS : What data structure does a shelf value resemble? A shelf value resembles a dictionary value; it has keys and values, along with keys() and values() methods that work similarly to the dictionary methods of the same names."
   ]
  },
  {
   "cell_type": "code",
   "execution_count": null,
   "id": "1a93f74b",
   "metadata": {},
   "outputs": [],
   "source": []
  }
 ],
 "metadata": {
  "kernelspec": {
   "display_name": "Python 3 (ipykernel)",
   "language": "python",
   "name": "python3"
  },
  "language_info": {
   "codemirror_mode": {
    "name": "ipython",
    "version": 3
   },
   "file_extension": ".py",
   "mimetype": "text/x-python",
   "name": "python",
   "nbconvert_exporter": "python",
   "pygments_lexer": "ipython3",
   "version": "3.9.12"
  }
 },
 "nbformat": 4,
 "nbformat_minor": 5
}
